{
 "cells": [
  {
   "cell_type": "markdown",
   "id": "ac76c8ed-ad45-41e1-b412-c94a53fd23d9",
   "metadata": {
    "tags": []
   },
   "source": [
    "## Step 1: Import Libraries"
   ]
  },
  {
   "cell_type": "code",
   "execution_count": 7,
   "id": "60ff4603-cfdd-45ee-8a3f-e2d2b277359d",
   "metadata": {
    "tags": []
   },
   "outputs": [],
   "source": [
    "#!pip install pandas requests"
   ]
  },
  {
   "cell_type": "code",
   "execution_count": 2,
   "id": "26720e07-2cf1-4b17-851b-8e5b39099112",
   "metadata": {
    "tags": []
   },
   "outputs": [],
   "source": [
    "import pandas as pd\n",
    "import requests\n",
    "import os\n",
    "import json"
   ]
  },
  {
   "cell_type": "markdown",
   "id": "6c35e06b-a807-4f04-8584-d5a8dc6c2aae",
   "metadata": {
    "tags": []
   },
   "source": [
    "## Step 2: Load the CSV File"
   ]
  },
  {
   "cell_type": "code",
   "execution_count": 3,
   "id": "a42fc8da-3f77-45f2-bf1e-a2b96896926f",
   "metadata": {
    "tags": []
   },
   "outputs": [],
   "source": [
    "data = pd.read_csv('Training_Data__Bald_Men__211__sets.csv', sep=',')"
   ]
  },
  {
   "cell_type": "markdown",
   "id": "dbb33961-bb36-40d4-b902-930b0c2d229c",
   "metadata": {
    "tags": []
   },
   "source": [
    "## Step 3: Create the Main Folder\n",
    "\n",
    "Create a main folder named dataset where all files will be stored."
   ]
  },
  {
   "cell_type": "code",
   "execution_count": 5,
   "id": "13a62edd-686a-49e7-8adc-dbe191c130cc",
   "metadata": {
    "tags": []
   },
   "outputs": [],
   "source": [
    "if not os.path.exists('dataset'):\n",
    "    os.makedirs('dataset')"
   ]
  },
  {
   "cell_type": "markdown",
   "id": "93135b03-085d-4145-9b57-5c1e0fcb0e35",
   "metadata": {
    "tags": []
   },
   "source": [
    "## **Step 4: Download Files from AWS**\n",
    "\n",
    "Loop through the DataFrame to download each file from AWS and save it into a folder named after its **`set_id`**"
   ]
  },
  {
   "cell_type": "code",
   "execution_count": 6,
   "id": "ac5c0725-04e9-4dfa-9033-a5259e2eebc9",
   "metadata": {
    "tags": []
   },
   "outputs": [],
   "source": [
    "for index, row in data.iterrows():\n",
    "\n",
    "    set_folder = f\"dataset/{row['set_id']}\"\n",
    "    os.makedirs(set_folder, exist_ok=True)\n",
    "    \n",
    "\n",
    "    image_types = ['Top-Down', 'Back', 'Front', 'Left', 'Right']\n",
    "    for image_type in image_types:\n",
    "        image_url = row[image_type]\n",
    "        image_path = f\"{set_folder}/{image_type}.jpg\"\n",
    "        response = requests.get(image_url)\n",
    "        if response.status_code == 200:\n",
    "            with open(image_path, 'wb') as file:\n",
    "                file.write(response.content)\n",
    "\n",
    "    metadata = {\n",
    "        \"set_id\": row['set_id'],\n",
    "        \"gender\": row['gender'],\n",
    "        \"age\": row['age'],\n",
    "        \"ethnicity\": row['ethnicity'],\n",
    "        \"label\": row['Label']\n",
    "    }\n",
    "    \n",
    "    with open(f\"{set_folder}/metadata.json\", 'w') as json_file:\n",
    "        json.dump(metadata, json_file)"
   ]
  }
 ],
 "metadata": {
  "kernelspec": {
   "display_name": "Python 3 (ipykernel)",
   "language": "python",
   "name": "python3"
  },
  "language_info": {
   "codemirror_mode": {
    "name": "ipython",
    "version": 3
   },
   "file_extension": ".py",
   "mimetype": "text/x-python",
   "name": "python",
   "nbconvert_exporter": "python",
   "pygments_lexer": "ipython3",
   "version": "3.11.3"
  }
 },
 "nbformat": 4,
 "nbformat_minor": 5
}
